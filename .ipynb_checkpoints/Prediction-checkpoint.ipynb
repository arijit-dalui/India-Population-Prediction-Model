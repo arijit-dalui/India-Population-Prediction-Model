{
 "cells": [
  {
   "cell_type": "code",
   "execution_count": null,
   "id": "4344f0f7",
   "metadata": {},
   "outputs": [],
   "source": [
    "import numpy as np\n",
    "import pandas as pd\n",
    "import matplotlib.pyplot as plt\n",
    "import seaborn as sns\n",
    "%matplotlib inline"
   ]
  },
  {
   "cell_type": "code",
   "execution_count": null,
   "id": "4495fa36",
   "metadata": {},
   "outputs": [],
   "source": [
    "df=pd.read_csv(\"IndiaPopulation_2021.csv\")\n",
    "df.head(10)"
   ]
  },
  {
   "cell_type": "markdown",
   "id": "3ae1917e",
   "metadata": {},
   "source": [
    "# Visualizing the data"
   ]
  },
  {
   "cell_type": "code",
   "execution_count": null,
   "id": "1a6b2112",
   "metadata": {},
   "outputs": [],
   "source": [
    "sns.barplot(x=\"Year\",y=\"Population\",data=df)"
   ]
  },
  {
   "cell_type": "code",
   "execution_count": null,
   "id": "47e5e824",
   "metadata": {},
   "outputs": [],
   "source": [
    "sns.scatterplot(data=df,x=\"Year\",y=\"Population\")"
   ]
  },
  {
   "cell_type": "code",
   "execution_count": null,
   "id": "739b7d9e",
   "metadata": {},
   "outputs": [],
   "source": [
    "x=df.iloc[:, 0:1].values\n",
    "y=df.iloc[:, 1:2].values"
   ]
  },
  {
   "cell_type": "markdown",
   "id": "4dc24270",
   "metadata": {},
   "source": [
    "# Splitting the dataset into the Training set and Test set"
   ]
  },
  {
   "cell_type": "code",
   "execution_count": null,
   "id": "668e86f7",
   "metadata": {},
   "outputs": [],
   "source": [
    "from sklearn.model_selection import train_test_split\n",
    "x_train, x_test, y_train, y_test = train_test_split(x, y, test_size = 0.2, random_state = 0)"
   ]
  },
  {
   "cell_type": "markdown",
   "id": "9575eaaa",
   "metadata": {},
   "source": [
    "# Linear Regression Module"
   ]
  },
  {
   "cell_type": "code",
   "execution_count": null,
   "id": "dfc2f706",
   "metadata": {},
   "outputs": [],
   "source": [
    "from sklearn.linear_model import LinearRegression\n",
    "regressor = LinearRegression()\n",
    "regressor.fit(x_train, y_train)"
   ]
  },
  {
   "cell_type": "code",
   "execution_count": null,
   "id": "66accfab",
   "metadata": {},
   "outputs": [],
   "source": [
    "y_pred=regressor.predict(x_test)"
   ]
  },
  {
   "cell_type": "code",
   "execution_count": null,
   "id": "573817de",
   "metadata": {},
   "outputs": [],
   "source": [
    "print(np.concatenate((y_pred.reshape(len(y_pred),1), y_test.reshape(len(y_test),1)),1))"
   ]
  },
  {
   "cell_type": "markdown",
   "id": "d6da4835",
   "metadata": {},
   "source": [
    "# Calculating Errors"
   ]
  },
  {
   "cell_type": "code",
   "execution_count": null,
   "id": "1913c196",
   "metadata": {},
   "outputs": [],
   "source": [
    "from sklearn.metrics import r2_score\n",
    "er1=r2_score(y_test,y_pred)\n",
    "er1"
   ]
  },
  {
   "cell_type": "code",
   "execution_count": null,
   "id": "66260894",
   "metadata": {},
   "outputs": [],
   "source": [
    "from sklearn.metrics import mean_squared_error\n",
    "mean_squared_error(y_test,y_pred)"
   ]
  },
  {
   "cell_type": "markdown",
   "id": "876ac37b",
   "metadata": {},
   "source": [
    "# Polynomial Regression Module"
   ]
  },
  {
   "cell_type": "code",
   "execution_count": null,
   "id": "0cc74429",
   "metadata": {},
   "outputs": [],
   "source": [
    "from sklearn.preprocessing import PolynomialFeatures\n",
    "from sklearn.linear_model import LinearRegression\n",
    "poly_reg = PolynomialFeatures(degree = 27)\n",
    "x_poly = poly_reg.fit_transform(x_train)\n",
    "regressor = LinearRegression()\n",
    "regressor.fit(x_poly, y_train)"
   ]
  },
  {
   "cell_type": "code",
   "execution_count": null,
   "id": "432fc0ef",
   "metadata": {},
   "outputs": [],
   "source": [
    "y_pred=regressor.predict(poly_reg.transform(x_test))"
   ]
  },
  {
   "cell_type": "code",
   "execution_count": null,
   "id": "a1f97647",
   "metadata": {},
   "outputs": [],
   "source": [
    "print(np.concatenate((y_pred.reshape(len(y_pred),1), y_test.reshape(len(y_test),1)),1))"
   ]
  },
  {
   "cell_type": "markdown",
   "id": "25697918",
   "metadata": {},
   "source": [
    "# Calculating Errors"
   ]
  },
  {
   "cell_type": "code",
   "execution_count": null,
   "id": "ba6f8517",
   "metadata": {},
   "outputs": [],
   "source": [
    "from sklearn.metrics import r2_score\n",
    "er2=r2_score(y_test,y_pred)\n",
    "er2"
   ]
  },
  {
   "cell_type": "code",
   "execution_count": null,
   "id": "9ecd7874",
   "metadata": {},
   "outputs": [],
   "source": [
    "from sklearn.metrics import mean_squared_error\n",
    "mean_squared_error(y_test,y_pred)"
   ]
  },
  {
   "cell_type": "markdown",
   "id": "8c6fc340",
   "metadata": {},
   "source": [
    "# Random Forest Module"
   ]
  },
  {
   "cell_type": "code",
   "execution_count": null,
   "id": "2c7000ff",
   "metadata": {},
   "outputs": [],
   "source": [
    "from sklearn.ensemble import RandomForestRegressor\n",
    "regressor = RandomForestRegressor(n_estimators = 10, random_state = 0)\n",
    "regressor.fit(x_train, y_train)"
   ]
  },
  {
   "cell_type": "code",
   "execution_count": null,
   "id": "7499b8d7",
   "metadata": {},
   "outputs": [],
   "source": [
    "y_pred=regressor.predict(x_test)"
   ]
  },
  {
   "cell_type": "code",
   "execution_count": null,
   "id": "c4a92e42",
   "metadata": {},
   "outputs": [],
   "source": [
    "print(np.concatenate((y_pred.reshape(len(y_pred),1), y_test.reshape(len(y_test),1)),1))"
   ]
  },
  {
   "cell_type": "markdown",
   "id": "2444ed3f",
   "metadata": {},
   "source": [
    "# Calculating Errors"
   ]
  },
  {
   "cell_type": "code",
   "execution_count": null,
   "id": "827889ee",
   "metadata": {},
   "outputs": [],
   "source": [
    "from sklearn.metrics import r2_score\n",
    "er3=r2_score(y_test,y_pred)\n",
    "er3"
   ]
  },
  {
   "cell_type": "code",
   "execution_count": null,
   "id": "44ade24f",
   "metadata": {},
   "outputs": [],
   "source": [
    "from sklearn.metrics import mean_squared_error\n",
    "mean_squared_error(y_test,y_pred)"
   ]
  },
  {
   "cell_type": "markdown",
   "id": "19f3cfcf",
   "metadata": {},
   "source": [
    "# Finalising the Module"
   ]
  },
  {
   "cell_type": "code",
   "execution_count": null,
   "id": "fbde9d79",
   "metadata": {},
   "outputs": [],
   "source": [
    "sns.barplot(x=[\"Linear Regression\",\"Polynomial Regression\",\"Random Forest\"],y=[er1,er2,er3])\n",
    "plt.xlabel('Modules')\n",
    "plt.ylabel('Error')"
   ]
  },
  {
   "cell_type": "code",
   "execution_count": null,
   "id": "428c4586",
   "metadata": {},
   "outputs": [],
   "source": [
    "from sklearn.preprocessing import PolynomialFeatures\n",
    "from sklearn.linear_model import LinearRegression\n",
    "poly_reg = PolynomialFeatures(degree = 27)\n",
    "x_poly = poly_reg.fit_transform(x_train)\n",
    "regressor = LinearRegression()\n",
    "regressor.fit(x_poly, y_train)"
   ]
  },
  {
   "cell_type": "code",
   "execution_count": null,
   "id": "197fb99a",
   "metadata": {},
   "outputs": [],
   "source": [
    "y_pred=regressor.predict(poly_reg.transform(x_test))"
   ]
  },
  {
   "cell_type": "markdown",
   "id": "96ac417f",
   "metadata": {},
   "source": [
    "# Predicting Upcoming Population"
   ]
  },
  {
   "cell_type": "code",
   "execution_count": null,
   "id": "db3bfeca",
   "metadata": {},
   "outputs": [],
   "source": [
    "prev=df.iloc[0:1, :]\n",
    "prev=np.array(prev['Population'])\n",
    "prev=prev[0]"
   ]
  },
  {
   "cell_type": "code",
   "execution_count": null,
   "id": "d74839c2",
   "metadata": {},
   "outputs": [],
   "source": [
    "new_data=pd.read_csv('Upcoming_population.csv',names=['Year','Population','Growth Rate'])"
   ]
  },
  {
   "cell_type": "code",
   "execution_count": null,
   "id": "a244ef3a",
   "metadata": {},
   "outputs": [],
   "source": [
    "def population():\n",
    "    x=[]\n",
    "    for i in range(2021,2032):\n",
    "        x.append(i)\n",
    "    return x\n",
    "year=population()\n",
    "new=year[1:]\n",
    "new=np.array(new)\n",
    "new=new.reshape(10,1)"
   ]
  },
  {
   "cell_type": "code",
   "execution_count": null,
   "id": "4a33e4f1",
   "metadata": {},
   "outputs": [],
   "source": [
    "population=regressor.predict(poly_reg.transform(new))\n",
    "population=population.reshape(len(population))"
   ]
  },
  {
   "cell_type": "code",
   "execution_count": null,
   "id": "5d130ef1",
   "metadata": {},
   "outputs": [],
   "source": [
    "year=pd.DataFrame(year,columns=['Year'])"
   ]
  },
  {
   "cell_type": "code",
   "execution_count": null,
   "id": "07bf5b80",
   "metadata": {},
   "outputs": [],
   "source": [
    "population=np.insert(population,0,prev)\n",
    "var=population"
   ]
  },
  {
   "cell_type": "code",
   "execution_count": null,
   "id": "1183fd30",
   "metadata": {},
   "outputs": [],
   "source": [
    "population=population.reshape(len(population),1)"
   ]
  },
  {
   "cell_type": "code",
   "execution_count": null,
   "id": "3ce07755",
   "metadata": {},
   "outputs": [],
   "source": [
    "population=pd.DataFrame(population,columns=['Population'])"
   ]
  },
  {
   "cell_type": "code",
   "execution_count": null,
   "id": "dbe6caaf",
   "metadata": {},
   "outputs": [],
   "source": [
    "new=pd.concat([year,population],axis=1)\n",
    "new"
   ]
  },
  {
   "cell_type": "code",
   "execution_count": null,
   "id": "8d5eed0f",
   "metadata": {},
   "outputs": [],
   "source": [
    "new.to_csv('Upcoming_population.csv')"
   ]
  },
  {
   "cell_type": "code",
   "execution_count": null,
   "id": "16570ac1",
   "metadata": {},
   "outputs": [],
   "source": []
  }
 ],
 "metadata": {
  "kernelspec": {
   "display_name": "Python 3 (ipykernel)",
   "language": "python",
   "name": "python3"
  },
  "language_info": {
   "codemirror_mode": {
    "name": "ipython",
    "version": 3
   },
   "file_extension": ".py",
   "mimetype": "text/x-python",
   "name": "python",
   "nbconvert_exporter": "python",
   "pygments_lexer": "ipython3",
   "version": "3.8.8"
  }
 },
 "nbformat": 4,
 "nbformat_minor": 5
}
