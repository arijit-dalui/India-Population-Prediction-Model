{
 "cells": [
  {
   "cell_type": "code",
   "execution_count": 35,
   "id": "4344f0f7",
   "metadata": {},
   "outputs": [],
   "source": [
    "import numpy as np\n",
    "import pandas as pd\n",
    "import matplotlib.pyplot as plt\n",
    "import seaborn as sns\n",
    "%matplotlib inline"
   ]
  },
  {
   "cell_type": "code",
   "execution_count": 36,
   "id": "4495fa36",
   "metadata": {},
   "outputs": [
    {
     "data": {
      "text/html": [
       "<div>\n",
       "<style scoped>\n",
       "    .dataframe tbody tr th:only-of-type {\n",
       "        vertical-align: middle;\n",
       "    }\n",
       "\n",
       "    .dataframe tbody tr th {\n",
       "        vertical-align: top;\n",
       "    }\n",
       "\n",
       "    .dataframe thead th {\n",
       "        text-align: right;\n",
       "    }\n",
       "</style>\n",
       "<table border=\"1\" class=\"dataframe\">\n",
       "  <thead>\n",
       "    <tr style=\"text-align: right;\">\n",
       "      <th></th>\n",
       "      <th>Year</th>\n",
       "      <th>Population</th>\n",
       "      <th>GrowthRate</th>\n",
       "    </tr>\n",
       "  </thead>\n",
       "  <tbody>\n",
       "    <tr>\n",
       "      <th>0</th>\n",
       "      <td>2021</td>\n",
       "      <td>1393409038</td>\n",
       "      <td>0.97</td>\n",
       "    </tr>\n",
       "    <tr>\n",
       "      <th>1</th>\n",
       "      <td>2020</td>\n",
       "      <td>1380004385</td>\n",
       "      <td>0.99</td>\n",
       "    </tr>\n",
       "    <tr>\n",
       "      <th>2</th>\n",
       "      <td>2019</td>\n",
       "      <td>1366417754</td>\n",
       "      <td>1.02</td>\n",
       "    </tr>\n",
       "    <tr>\n",
       "      <th>3</th>\n",
       "      <td>2018</td>\n",
       "      <td>1352642280</td>\n",
       "      <td>1.04</td>\n",
       "    </tr>\n",
       "    <tr>\n",
       "      <th>4</th>\n",
       "      <td>2017</td>\n",
       "      <td>1338676785</td>\n",
       "      <td>1.07</td>\n",
       "    </tr>\n",
       "    <tr>\n",
       "      <th>5</th>\n",
       "      <td>2016</td>\n",
       "      <td>1324517249</td>\n",
       "      <td>1.10</td>\n",
       "    </tr>\n",
       "    <tr>\n",
       "      <th>6</th>\n",
       "      <td>2015</td>\n",
       "      <td>1310152403</td>\n",
       "      <td>1.12</td>\n",
       "    </tr>\n",
       "    <tr>\n",
       "      <th>7</th>\n",
       "      <td>2014</td>\n",
       "      <td>1295600772</td>\n",
       "      <td>1.15</td>\n",
       "    </tr>\n",
       "    <tr>\n",
       "      <th>8</th>\n",
       "      <td>2013</td>\n",
       "      <td>1280842125</td>\n",
       "      <td>1.19</td>\n",
       "    </tr>\n",
       "    <tr>\n",
       "      <th>9</th>\n",
       "      <td>2012</td>\n",
       "      <td>1265780247</td>\n",
       "      <td>1.24</td>\n",
       "    </tr>\n",
       "  </tbody>\n",
       "</table>\n",
       "</div>"
      ],
      "text/plain": [
       "   Year  Population  GrowthRate\n",
       "0  2021  1393409038        0.97\n",
       "1  2020  1380004385        0.99\n",
       "2  2019  1366417754        1.02\n",
       "3  2018  1352642280        1.04\n",
       "4  2017  1338676785        1.07\n",
       "5  2016  1324517249        1.10\n",
       "6  2015  1310152403        1.12\n",
       "7  2014  1295600772        1.15\n",
       "8  2013  1280842125        1.19\n",
       "9  2012  1265780247        1.24"
      ]
     },
     "execution_count": 36,
     "metadata": {},
     "output_type": "execute_result"
    }
   ],
   "source": [
    "df=pd.read_csv(\"IndiaPopulation_2021.csv\")\n",
    "df.head(10)"
   ]
  },
  {
   "cell_type": "markdown",
   "id": "3ae1917e",
   "metadata": {},
   "source": [
    "# Visualizing the data"
   ]
  },
  {
   "cell_type": "code",
   "execution_count": 37,
   "id": "1a6b2112",
   "metadata": {},
   "outputs": [
    {
     "data": {
      "text/plain": [
       "<AxesSubplot:xlabel='Year', ylabel='Population'>"
      ]
     },
     "execution_count": 37,
     "metadata": {},
     "output_type": "execute_result"
    },
    {
     "data": {
      "image/png": "[encoded data removed]",
      "text/plain": [
       "<Figure size 432x288 with 1 Axes>"
      ]
     },
     "metadata": {
      "needs_background": "light"
     },
     "output_type": "display_data"
    }
   ],
   "source": [
    "sns.barplot(x=\"Year\",y=\"Population\",data=df)"
   ]
  },
  {
   "cell_type": "code",
   "execution_count": 38,
   "id": "47e5e824",
   "metadata": {},
   "outputs": [
    {
     "data": {
      "text/plain": [
       "<AxesSubplot:xlabel='Year', ylabel='Population'>"
      ]
     },
     "execution_count": 38,
     "metadata": {},
     "output_type": "execute_result"
    },
    {
     "data": {
      "image/png": "[encoded data removed]",
      "text/plain": [
       "<Figure size 432x288 with 1 Axes>"
      ]
     },
     "metadata": {
      "needs_background": "light"
     },
     "output_type": "display_data"
    }
   ],
   "source": [
    "sns.scatterplot(data=df,x=\"Year\",y=\"Population\")"
   ]
  },
  {
   "cell_type": "code",
   "execution_count": 39,
   "id": "739b7d9e",
   "metadata": {},
   "outputs": [],
   "source": [
    "x=df.iloc[:, 0:1].values\n",
    "y=df.iloc[:, 1:2].values"
   ]
  },
  {
   "cell_type": "markdown",
   "id": "4dc24270",
   "metadata": {},
   "source": [
    "# Splitting the dataset into the Training set and Test set"
   ]
  },
  {
   "cell_type": "code",
   "execution_count": 40,
   "id": "668e86f7",
   "metadata": {},
   "outputs": [],
   "source": [
    "from sklearn.model_selection import train_test_split\n",
    "x_train, x_test, y_train, y_test = train_test_split(x, y, test_size = 0.2, random_state = 0)"
   ]
  },
  {
   "cell_type": "markdown",
   "id": "9575eaaa",
   "metadata": {},
   "source": [
    "# Linear Regression Module"
   ]
  },
  {
   "cell_type": "code",
   "execution_count": 41,
   "id": "dfc2f706",
   "metadata": {},
   "outputs": [
    {
     "data": {
      "text/plain": [
       "LinearRegression()"
      ]
     },
     "execution_count": 41,
     "metadata": {},
     "output_type": "execute_result"
    }
   ],
   "source": [
    "from sklearn.linear_model import LinearRegression\n",
    "regressor = LinearRegression()\n",
    "regressor.fit(x_train, y_train)"
   ]
  },
  {
   "cell_type": "code",
   "execution_count": 42,
   "id": "66accfab",
   "metadata": {},
   "outputs": [],
   "source": [
    "y_pred=regressor.predict(x_test)"
   ]
  },
  {
   "cell_type": "code",
   "execution_count": 43,
   "id": "573817de",
   "metadata": {},
   "outputs": [
    {
     "name": "stdout",
     "output_type": "stream",
     "text": [
      "[[9.78692732e+08 9.63922588e+08]\n",
      " [9.63224752e+08 9.45601831e+08]\n",
      " [6.38397171e+08 5.94770134e+08]\n",
      " [1.04056465e+09 1.03805816e+09]\n",
      " [9.16820812e+08 8.91273209e+08]\n",
      " [5.91993231e+08 5.55189792e+08]\n",
      " [1.27258435e+09 1.29560077e+09]\n",
      " [4.68249391e+08 4.69077190e+08]\n",
      " [8.54948892e+08 8.19682102e+08]\n",
      " [2.82633631e+08 3.76325200e+08]\n",
      " [5.14653331e+08 4.99123324e+08]\n",
      " [9.47756772e+08 9.27403860e+08]\n",
      " [9.01352832e+08 8.73277798e+08]\n",
      " [7.31205051e+08 6.82995354e+08]\n",
      " [8.70416872e+08 8.37468930e+08]]\n"
     ]
    }
   ],
   "source": [
    "print(np.concatenate((y_pred.reshape(len(y_pred),1), y_test.reshape(len(y_test),1)),1))"
   ]
  },
  {
   "cell_type": "markdown",
   "id": "d6da4835",
   "metadata": {},
   "source": [
    "# Calculating Errors"
   ]
  },
  {
   "cell_type": "code",
   "execution_count": 44,
   "id": "1913c196",
   "metadata": {},
   "outputs": [
    {
     "data": {
      "text/plain": [
       "0.9772825886927115"
      ]
     },
     "execution_count": 44,
     "metadata": {},
     "output_type": "execute_result"
    }
   ],
   "source": [
    "from sklearn.metrics import r2_score\n",
    "er1=r2_score(y_test,y_pred)\n",
    "er1"
   ]
  },
  {
   "cell_type": "code",
   "execution_count": 45,
   "id": "66260894",
   "metadata": {},
   "outputs": [
    {
     "data": {
      "text/plain": [
       "1323411164816106.8"
      ]
     },
     "execution_count": 45,
     "metadata": {},
     "output_type": "execute_result"
    }
   ],
   "source": [
    "from sklearn.metrics import mean_squared_error\n",
    "mean_squared_error(y_test,y_pred)"
   ]
  },
  {
   "cell_type": "markdown",
   "id": "876ac37b",
   "metadata": {},
   "source": [
    "# Polynomial Regression Module"
   ]
  },
  {
   "cell_type": "code",
   "execution_count": 46,
   "id": "0cc74429",
   "metadata": {},
   "outputs": [
    {
     "data": {
      "text/plain": [
       "LinearRegression()"
      ]
     },
     "execution_count": 46,
     "metadata": {},
     "output_type": "execute_result"
    }
   ],
   "source": [
    "from sklearn.preprocessing import PolynomialFeatures\n",
    "from sklearn.linear_model import LinearRegression\n",
    "poly_reg = PolynomialFeatures(degree = 27)\n",
    "x_poly = poly_reg.fit_transform(x_train)\n",
    "regressor = LinearRegression()\n",
    "regressor.fit(x_poly, y_train)"
   ]
  },
  {
   "cell_type": "code",
   "execution_count": 47,
   "id": "432fc0ef",
   "metadata": {},
   "outputs": [],
   "source": [
    "y_pred=regressor.predict(poly_reg.transform(x_test))"
   ]
  },
  {
   "cell_type": "code",
   "execution_count": 48,
   "id": "a1f97647",
   "metadata": {},
   "outputs": [
    {
     "name": "stdout",
     "output_type": "stream",
     "text": [
      "[[9.63098594e+08 9.63922588e+08]\n",
      " [9.44604368e+08 9.45601831e+08]\n",
      " [5.96427767e+08 5.94770134e+08]\n",
      " [1.03737820e+09 1.03805816e+09]\n",
      " [8.89613715e+08 8.91273209e+08]\n",
      " [5.56695279e+08 5.55189792e+08]\n",
      " [1.29769942e+09 1.29560077e+09]\n",
      " [4.66985354e+08 4.69077190e+08]\n",
      " [8.18090693e+08 8.19682102e+08]\n",
      " [3.80746376e+08 3.76325200e+08]\n",
      " [4.97746052e+08 4.99123324e+08]\n",
      " [9.26179896e+08 9.27403860e+08]\n",
      " [8.71507117e+08 8.73277798e+08]\n",
      " [6.84803580e+08 6.82995354e+08]\n",
      " [8.35729924e+08 8.37468930e+08]]\n"
     ]
    }
   ],
   "source": [
    "print(np.concatenate((y_pred.reshape(len(y_pred),1), y_test.reshape(len(y_test),1)),1))"
   ]
  },
  {
   "cell_type": "markdown",
   "id": "25697918",
   "metadata": {},
   "source": [
    "# Calculating Errors"
   ]
  },
  {
   "cell_type": "code",
   "execution_count": 49,
   "id": "ba6f8517",
   "metadata": {},
   "outputs": [
    {
     "data": {
      "text/plain": [
       "0.9999386746408313"
      ]
     },
     "execution_count": 49,
     "metadata": {},
     "output_type": "execute_result"
    }
   ],
   "source": [
    "from sklearn.metrics import r2_score\n",
    "er2=r2_score(y_test,y_pred)\n",
    "er2"
   ]
  },
  {
   "cell_type": "code",
   "execution_count": 50,
   "id": "9ecd7874",
   "metadata": {},
   "outputs": [
    {
     "data": {
      "text/plain": [
       "3572531390678.4756"
      ]
     },
     "execution_count": 50,
     "metadata": {},
     "output_type": "execute_result"
    }
   ],
   "source": [
    "from sklearn.metrics import mean_squared_error\n",
    "mean_squared_error(y_test,y_pred)"
   ]
  },
  {
   "cell_type": "markdown",
   "id": "8c6fc340",
   "metadata": {},
   "source": [
    "# Random Forest Module"
   ]
  },
  {
   "cell_type": "code",
   "execution_count": 51,
   "id": "2c7000ff",
   "metadata": {},
   "outputs": [
    {
     "name": "stderr",
     "output_type": "stream",
     "text": [
      "C:\\Users\\ARIJIT~1\\AppData\\Local\\Temp/ipykernel_10284/868982534.py:3: DataConversionWarning: A column-vector y was passed when a 1d array was expected. Please change the shape of y to (n_samples,), for example using ravel().\n",
      "  regressor.fit(x_train, y_train)\n"
     ]
    },
    {
     "data": {
      "text/plain": [
       "RandomForestRegressor(n_estimators=10, random_state=0)"
      ]
     },
     "execution_count": 51,
     "metadata": {},
     "output_type": "execute_result"
    }
   ],
   "source": [
    "from sklearn.ensemble import RandomForestRegressor\n",
    "regressor = RandomForestRegressor(n_estimators = 10, random_state = 0)\n",
    "regressor.fit(x_train, y_train)"
   ]
  },
  {
   "cell_type": "code",
   "execution_count": 52,
   "id": "7499b8d7",
   "metadata": {},
   "outputs": [],
   "source": [
    "y_pred=regressor.predict(x_test)"
   ]
  },
  {
   "cell_type": "code",
   "execution_count": 53,
   "id": "c4a92e42",
   "metadata": {},
   "outputs": [
    {
     "name": "stdout",
     "output_type": "stream",
     "text": [
      "[[9.78766378e+08 9.63922588e+08]\n",
      " [9.45836130e+08 9.45601831e+08]\n",
      " [5.96394539e+08 5.94770134e+08]\n",
      " [1.03061117e+09 1.03805816e+09]\n",
      " [9.07726960e+08 8.91273209e+08]\n",
      " [5.44569919e+08 5.55189792e+08]\n",
      " [1.28226696e+09 1.29560077e+09]\n",
      " [4.66406094e+08 4.69077190e+08]\n",
      " [7.94929150e+08 8.19682102e+08]\n",
      " [3.85039325e+08 3.76325200e+08]\n",
      " [4.97236136e+08 4.99123324e+08]\n",
      " [9.45836130e+08 9.27403860e+08]\n",
      " [8.62728679e+08 8.73277798e+08]\n",
      " [6.70772208e+08 6.82995354e+08]\n",
      " [8.16272923e+08 8.37468930e+08]]\n"
     ]
    }
   ],
   "source": [
    "print(np.concatenate((y_pred.reshape(len(y_pred),1), y_test.reshape(len(y_test),1)),1))"
   ]
  },
  {
   "cell_type": "markdown",
   "id": "2444ed3f",
   "metadata": {},
   "source": [
    "# Calculating Errors"
   ]
  },
  {
   "cell_type": "code",
   "execution_count": 54,
   "id": "827889ee",
   "metadata": {},
   "outputs": [
    {
     "data": {
      "text/plain": [
       "0.9970373698733191"
      ]
     },
     "execution_count": 54,
     "metadata": {},
     "output_type": "execute_result"
    }
   ],
   "source": [
    "from sklearn.metrics import r2_score\n",
    "er3=r2_score(y_test,y_pred)\n",
    "er3"
   ]
  },
  {
   "cell_type": "code",
   "execution_count": 55,
   "id": "44ade24f",
   "metadata": {},
   "outputs": [
    {
     "data": {
      "text/plain": [
       "172589109464777.1"
      ]
     },
     "execution_count": 55,
     "metadata": {},
     "output_type": "execute_result"
    }
   ],
   "source": [
    "from sklearn.metrics import mean_squared_error\n",
    "mean_squared_error(y_test,y_pred)"
   ]
  },
  {
   "cell_type": "markdown",
   "id": "19f3cfcf",
   "metadata": {},
   "source": [
    "# Finalising the Module"
   ]
  },
  {
   "cell_type": "code",
   "execution_count": 56,
   "id": "fbde9d79",
   "metadata": {},
   "outputs": [
    {
     "data": {
      "text/plain": [
       "Text(0, 0.5, 'Error')"
      ]
     },
     "execution_count": 56,
     "metadata": {},
     "output_type": "execute_result"
    },
    {
     "data": {
      "image/png": "[encoded data removed]",
      "text/plain": [
       "<Figure size 432x288 with 1 Axes>"
      ]
     },
     "metadata": {
      "needs_background": "light"
     },
     "output_type": "display_data"
    }
   ],
   "source": [
    "sns.barplot(x=[\"Linear Regression\",\"Polynomial Regression\",\"Random Forest\"],y=[er1,er2,er3])\n",
    "plt.xlabel('Modules')\n",
    "plt.ylabel('Error')"
   ]
  },
  {
   "cell_type": "code",
   "execution_count": 57,
   "id": "428c4586",
   "metadata": {},
   "outputs": [
    {
     "data": {
      "text/plain": [
       "LinearRegression()"
      ]
     },
     "execution_count": 57,
     "metadata": {},
     "output_type": "execute_result"
    }
   ],
   "source": [
    "from sklearn.preprocessing import PolynomialFeatures\n",
    "from sklearn.linear_model import LinearRegression\n",
    "poly_reg = PolynomialFeatures(degree = 27)\n",
    "x_poly = poly_reg.fit_transform(x_train)\n",
    "regressor = LinearRegression()\n",
    "regressor.fit(x_poly, y_train)"
   ]
  },
  {
   "cell_type": "code",
   "execution_count": 58,
   "id": "197fb99a",
   "metadata": {},
   "outputs": [],
   "source": [
    "y_pred=regressor.predict(poly_reg.transform(x_test))"
   ]
  },
  {
   "cell_type": "markdown",
   "id": "96ac417f",
   "metadata": {},
   "source": [
    "# Predicting Upcoming Population"
   ]
  },
  {
   "cell_type": "code",
   "execution_count": 59,
   "id": "db3bfeca",
   "metadata": {},
   "outputs": [],
   "source": [
    "prev=df.iloc[0:1, :]\n",
    "prev=np.array(prev['Population'])\n",
    "prev=prev[0]"
   ]
  },
  {
   "cell_type": "code",
   "execution_count": 60,
   "id": "d74839c2",
   "metadata": {},
   "outputs": [],
   "source": [
    "new_data=pd.read_csv('Upcoming_population.csv',names=['Year','Population','Growth Rate'])"
   ]
  },
  {
   "cell_type": "code",
   "execution_count": 61,
   "id": "a244ef3a",
   "metadata": {},
   "outputs": [],
   "source": [
    "def population():\n",
    "    x=[]\n",
    "    for i in range(2021,2032):\n",
    "        x.append(i)\n",
    "    return x\n",
    "year=population()\n",
    "new=year[1:]\n",
    "new=np.array(new)\n",
    "new=new.reshape(10,1)"
   ]
  },
  {
   "cell_type": "code",
   "execution_count": 62,
   "id": "4a33e4f1",
   "metadata": {},
   "outputs": [],
   "source": [
    "population=regressor.predict(poly_reg.transform(new))\n",
    "population=population.reshape(len(population))"
   ]
  },
  {
   "cell_type": "code",
   "execution_count": 63,
   "id": "5d130ef1",
   "metadata": {},
   "outputs": [],
   "source": [
    "year=pd.DataFrame(year,columns=['Year'])"
   ]
  },
  {
   "cell_type": "code",
   "execution_count": 64,
   "id": "07bf5b80",
   "metadata": {},
   "outputs": [],
   "source": [
    "population=np.insert(population,0,prev)\n",
    "var=population"
   ]
  },
  {
   "cell_type": "code",
   "execution_count": 65,
   "id": "1183fd30",
   "metadata": {},
   "outputs": [],
   "source": [
    "population=population.reshape(len(population),1)"
   ]
  },
  {
   "cell_type": "code",
   "execution_count": 66,
   "id": "3ce07755",
   "metadata": {},
   "outputs": [],
   "source": [
    "population=pd.DataFrame(population,columns=['Population'])"
   ]
  },
  {
   "cell_type": "code",
   "execution_count": 67,
   "id": "dbe6caaf",
   "metadata": {},
   "outputs": [
    {
     "data": {
      "text/html": [
       "<div>\n",
       "<style scoped>\n",
       "    .dataframe tbody tr th:only-of-type {\n",
       "        vertical-align: middle;\n",
       "    }\n",
       "\n",
       "    .dataframe tbody tr th {\n",
       "        vertical-align: top;\n",
       "    }\n",
       "\n",
       "    .dataframe thead th {\n",
       "        text-align: right;\n",
       "    }\n",
       "</style>\n",
       "<table border=\"1\" class=\"dataframe\">\n",
       "  <thead>\n",
       "    <tr style=\"text-align: right;\">\n",
       "      <th></th>\n",
       "      <th>Year</th>\n",
       "      <th>Population</th>\n",
       "    </tr>\n",
       "  </thead>\n",
       "  <tbody>\n",
       "    <tr>\n",
       "      <th>0</th>\n",
       "      <td>2021</td>\n",
       "      <td>1.393409e+09</td>\n",
       "    </tr>\n",
       "    <tr>\n",
       "      <th>1</th>\n",
       "      <td>2022</td>\n",
       "      <td>1.400113e+09</td>\n",
       "    </tr>\n",
       "    <tr>\n",
       "      <th>2</th>\n",
       "      <td>2023</td>\n",
       "      <td>1.409814e+09</td>\n",
       "    </tr>\n",
       "    <tr>\n",
       "      <th>3</th>\n",
       "      <td>2024</td>\n",
       "      <td>1.418681e+09</td>\n",
       "    </tr>\n",
       "    <tr>\n",
       "      <th>4</th>\n",
       "      <td>2025</td>\n",
       "      <td>1.426667e+09</td>\n",
       "    </tr>\n",
       "    <tr>\n",
       "      <th>5</th>\n",
       "      <td>2026</td>\n",
       "      <td>1.433724e+09</td>\n",
       "    </tr>\n",
       "    <tr>\n",
       "      <th>6</th>\n",
       "      <td>2027</td>\n",
       "      <td>1.439802e+09</td>\n",
       "    </tr>\n",
       "    <tr>\n",
       "      <th>7</th>\n",
       "      <td>2028</td>\n",
       "      <td>1.444851e+09</td>\n",
       "    </tr>\n",
       "    <tr>\n",
       "      <th>8</th>\n",
       "      <td>2029</td>\n",
       "      <td>1.448817e+09</td>\n",
       "    </tr>\n",
       "    <tr>\n",
       "      <th>9</th>\n",
       "      <td>2030</td>\n",
       "      <td>1.451648e+09</td>\n",
       "    </tr>\n",
       "    <tr>\n",
       "      <th>10</th>\n",
       "      <td>2031</td>\n",
       "      <td>1.453288e+09</td>\n",
       "    </tr>\n",
       "  </tbody>\n",
       "</table>\n",
       "</div>"
      ],
      "text/plain": [
       "    Year    Population\n",
       "0   2021  1.393409e+09\n",
       "1   2022  1.400113e+09\n",
       "2   2023  1.409814e+09\n",
       "3   2024  1.418681e+09\n",
       "4   2025  1.426667e+09\n",
       "5   2026  1.433724e+09\n",
       "6   2027  1.439802e+09\n",
       "7   2028  1.444851e+09\n",
       "8   2029  1.448817e+09\n",
       "9   2030  1.451648e+09\n",
       "10  2031  1.453288e+09"
      ]
     },
     "execution_count": 67,
     "metadata": {},
     "output_type": "execute_result"
    }
   ],
   "source": [
    "new=pd.concat([year,population],axis=1)\n",
    "new"
   ]
  },
  {
   "cell_type": "code",
   "execution_count": 68,
   "id": "8d5eed0f",
   "metadata": {},
   "outputs": [],
   "source": [
    "new.to_csv('Upcoming_population.csv')"
   ]
  },
  {
   "cell_type": "code",
   "execution_count": null,
   "id": "9fb01044",
   "metadata": {},
   "outputs": [],
   "source": []
  }
 ],
 "metadata": {
  "kernelspec": {
   "display_name": "Python 3 (ipykernel)",
   "language": "python",
   "name": "python3"
  },
  "language_info": {
   "codemirror_mode": {
    "name": "ipython",
    "version": 3
   },
   "file_extension": ".py",
   "mimetype": "text/x-python",
   "name": "python",
   "nbconvert_exporter": "python",
   "pygments_lexer": "ipython3",
   "version": "3.8.8"
  }
 },
 "nbformat": 4,
 "nbformat_minor": 5
}
